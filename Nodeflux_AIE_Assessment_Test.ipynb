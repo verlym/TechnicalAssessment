{
  "nbformat": 4,
  "nbformat_minor": 0,
  "metadata": {
    "colab": {
      "name": "Nodeflux AIE Assessment Test.ipynb",
      "version": "0.3.2",
      "provenance": [],
      "collapsed_sections": [],
      "toc_visible": true
    },
    "kernelspec": {
      "name": "python3",
      "display_name": "Python 3"
    },
    "accelerator": "GPU"
  },
  "cells": [
    {
      "metadata": {
        "id": "Lj4_PD6MkDKy",
        "colab_type": "text"
      },
      "cell_type": "markdown",
      "source": [
        "# Nodeflux Intern Assessment Test\n",
        "\n",
        "---\n",
        "\n",
        "Merupakan salah satu dari dua tahap **Enrollment Stage** untuk memenuhi syarat sebagai internship Nodeflux.\n",
        "\n",
        "\n",
        "\n",
        "**Technical Requirements**\n",
        "Please follow these technical requirements:\n",
        "\n",
        "1.   Explain each of problem in your own word\n",
        "2.   Explanation using visualization is a huge plus\n",
        "\n"
      ]
    },
    {
      "metadata": {
        "id": "So8Nh5PHkvVB",
        "colab_type": "text"
      },
      "cell_type": "markdown",
      "source": [
        "# Assessment Test"
      ]
    },
    {
      "metadata": {
        "id": "QVhZuDkynW60",
        "colab_type": "text"
      },
      "cell_type": "markdown",
      "source": [
        "## (1) Please explain about dataset imbalance and its effect on trained machine learning models"
      ]
    },
    {
      "metadata": {
        "id": "xd6zEhC-xyC9",
        "colab_type": "text"
      },
      "cell_type": "markdown",
      "source": [
        "##Jawaban:\n",
        "\n",
        "Dataset imbalance merupakan suatu kondisi yang biasa ditemukan pada problem klasifikasi, dimana jumlah kelas satu(kelas major) sangat berbeda jauh dibanding kelas lainnya(kelas minor). jika diukur dengan rasio antara kelas major dan kelas minor, misalnya 100:1, 1000:1, 90:10, dsb. Kasus imbalanced dataset tidak hanya ditemukan pada binary classification problem, tapi juga pada multi-class classification problem. contoh kasusnya yaitu fraud detection dan spam filtering."
      ]
    },
    {
      "metadata": {
        "id": "Ll1AYho8a05k",
        "colab_type": "text"
      },
      "cell_type": "markdown",
      "source": [
        "Saya akan mencoba menjawab effect pada training model yang dilakukan pada imbalanced dataset. contoh dataset yang digunakan yaitu tentang fraud detection pada credit card yang didapatkan dari kaggle. sebelum melakukan training, terlebih dahulu meng-import dataset yang dibutuhkan."
      ]
    },
    {
      "metadata": {
        "id": "EWM83aYznf8U",
        "colab_type": "code",
        "colab": {
          "base_uri": "https://localhost:8080/",
          "height": 219
        },
        "outputId": "0785efb5-71e9-4f1e-8be9-b862533a7f64"
      },
      "cell_type": "code",
      "source": [
        "!pip install PyDrive"
      ],
      "execution_count": 4,
      "outputs": [
        {
          "output_type": "stream",
          "text": [
            "Requirement already satisfied: PyDrive in /usr/local/lib/python3.6/dist-packages (1.3.1)\n",
            "Requirement already satisfied: google-api-python-client>=1.2 in /usr/local/lib/python3.6/dist-packages (from PyDrive) (1.6.7)\n",
            "Requirement already satisfied: oauth2client>=4.0.0 in /usr/local/lib/python3.6/dist-packages (from PyDrive) (4.1.3)\n",
            "Requirement already satisfied: PyYAML>=3.0 in /usr/local/lib/python3.6/dist-packages (from PyDrive) (3.13)\n",
            "Requirement already satisfied: httplib2<1dev,>=0.9.2 in /usr/local/lib/python3.6/dist-packages (from google-api-python-client>=1.2->PyDrive) (0.11.3)\n",
            "Requirement already satisfied: six<2dev,>=1.6.1 in /usr/local/lib/python3.6/dist-packages (from google-api-python-client>=1.2->PyDrive) (1.11.0)\n",
            "Requirement already satisfied: uritemplate<4dev,>=3.0.0 in /usr/local/lib/python3.6/dist-packages (from google-api-python-client>=1.2->PyDrive) (3.0.0)\n",
            "Requirement already satisfied: rsa>=3.1.4 in /usr/local/lib/python3.6/dist-packages (from oauth2client>=4.0.0->PyDrive) (4.0)\n",
            "Requirement already satisfied: pyasn1>=0.1.7 in /usr/local/lib/python3.6/dist-packages (from oauth2client>=4.0.0->PyDrive) (0.4.4)\n",
            "Requirement already satisfied: pyasn1-modules>=0.0.5 in /usr/local/lib/python3.6/dist-packages (from oauth2client>=4.0.0->PyDrive) (0.2.2)\n"
          ],
          "name": "stdout"
        }
      ]
    },
    {
      "metadata": {
        "id": "uQF7Jx1obais",
        "colab_type": "code",
        "colab": {}
      },
      "cell_type": "code",
      "source": [
        "import os\n",
        "from pydrive.auth import GoogleAuth\n",
        "from pydrive.drive import GoogleDrive\n",
        "from google.colab import auth\n",
        "from oauth2client.client import GoogleCredentials\n",
        "auth.authenticate_user()\n",
        "gauth = GoogleAuth()\n",
        "gauth.credentials = GoogleCredentials.get_application_default()\n",
        "drive = GoogleDrive(gauth)\n",
        "download = drive.CreateFile({'id': '1Mz0KbzvrvZ818oyBU6No76RCEwElPagO'}) #ID Dataset yang ada pada drive saya\n",
        "download.GetContentFile('creditcard.csv.zip')"
      ],
      "execution_count": 0,
      "outputs": []
    },
    {
      "metadata": {
        "id": "Xv9pcHWWcJ3u",
        "colab_type": "code",
        "colab": {
          "base_uri": "https://localhost:8080/",
          "height": 72
        },
        "outputId": "3e6e6339-2334-44f1-8f00-506114a23c2d"
      },
      "cell_type": "code",
      "source": [
        "!pip install zipfile"
      ],
      "execution_count": 6,
      "outputs": [
        {
          "output_type": "stream",
          "text": [
            "Collecting zipfile\n",
            "\u001b[31m  Could not find a version that satisfies the requirement zipfile (from versions: )\u001b[0m\n",
            "\u001b[31mNo matching distribution found for zipfile\u001b[0m\n"
          ],
          "name": "stdout"
        }
      ]
    },
    {
      "metadata": {
        "id": "aUfpYaaYeDJa",
        "colab_type": "code",
        "colab": {}
      },
      "cell_type": "code",
      "source": [
        "#ekstrak dataset zip\n",
        "import zipfile\n",
        "zf = zipfile.ZipFile(\"creditcard.csv.zip\")\n",
        "zf.extractall()"
      ],
      "execution_count": 0,
      "outputs": []
    },
    {
      "metadata": {
        "id": "YgZlx8dee1jy",
        "colab_type": "code",
        "colab": {}
      },
      "cell_type": "code",
      "source": [
        "#import library yang dibutuhkan untuk visualisasi dan dataframe\n",
        "import pandas as pd\n",
        "import matplotlib.pyplot as plt \n",
        "import seaborn as sns\n",
        "import numpy as np\n",
        "import datetime\n",
        "import PIL\n",
        "%matplotlib inline"
      ],
      "execution_count": 0,
      "outputs": []
    },
    {
      "metadata": {
        "id": "CLBf1lKdfaS9",
        "colab_type": "code",
        "colab": {}
      },
      "cell_type": "code",
      "source": [
        "df = pd.read_csv(\"creditcard.csv\",header = 0)"
      ],
      "execution_count": 0,
      "outputs": []
    },
    {
      "metadata": {
        "id": "-Qsg2axIi6Ps",
        "colab_type": "code",
        "colab": {
          "base_uri": "https://localhost:8080/",
          "height": 672
        },
        "outputId": "12459212-5016-4744-db8f-2f5fb4f6f71a"
      },
      "cell_type": "code",
      "source": [
        "df.info()"
      ],
      "execution_count": 10,
      "outputs": [
        {
          "output_type": "stream",
          "text": [
            "<class 'pandas.core.frame.DataFrame'>\n",
            "RangeIndex: 284807 entries, 0 to 284806\n",
            "Data columns (total 31 columns):\n",
            "Time      284807 non-null float64\n",
            "V1        284807 non-null float64\n",
            "V2        284807 non-null float64\n",
            "V3        284807 non-null float64\n",
            "V4        284807 non-null float64\n",
            "V5        284807 non-null float64\n",
            "V6        284807 non-null float64\n",
            "V7        284807 non-null float64\n",
            "V8        284807 non-null float64\n",
            "V9        284807 non-null float64\n",
            "V10       284807 non-null float64\n",
            "V11       284807 non-null float64\n",
            "V12       284807 non-null float64\n",
            "V13       284807 non-null float64\n",
            "V14       284807 non-null float64\n",
            "V15       284807 non-null float64\n",
            "V16       284807 non-null float64\n",
            "V17       284807 non-null float64\n",
            "V18       284807 non-null float64\n",
            "V19       284807 non-null float64\n",
            "V20       284807 non-null float64\n",
            "V21       284807 non-null float64\n",
            "V22       284807 non-null float64\n",
            "V23       284807 non-null float64\n",
            "V24       284807 non-null float64\n",
            "V25       284807 non-null float64\n",
            "V26       284807 non-null float64\n",
            "V27       284807 non-null float64\n",
            "V28       284807 non-null float64\n",
            "Amount    284807 non-null float64\n",
            "Class     284807 non-null int64\n",
            "dtypes: float64(30), int64(1)\n",
            "memory usage: 67.4 MB\n"
          ],
          "name": "stdout"
        }
      ]
    },
    {
      "metadata": {
        "id": "Ro6-mcV_i8PG",
        "colab_type": "code",
        "colab": {
          "base_uri": "https://localhost:8080/",
          "height": 247
        },
        "outputId": "720decfa-b4f2-4361-9864-aa3940356cd4"
      },
      "cell_type": "code",
      "source": [
        "df.head()"
      ],
      "execution_count": 11,
      "outputs": [
        {
          "output_type": "execute_result",
          "data": {
            "text/html": [
              "<div>\n",
              "<style scoped>\n",
              "    .dataframe tbody tr th:only-of-type {\n",
              "        vertical-align: middle;\n",
              "    }\n",
              "\n",
              "    .dataframe tbody tr th {\n",
              "        vertical-align: top;\n",
              "    }\n",
              "\n",
              "    .dataframe thead th {\n",
              "        text-align: right;\n",
              "    }\n",
              "</style>\n",
              "<table border=\"1\" class=\"dataframe\">\n",
              "  <thead>\n",
              "    <tr style=\"text-align: right;\">\n",
              "      <th></th>\n",
              "      <th>Time</th>\n",
              "      <th>V1</th>\n",
              "      <th>V2</th>\n",
              "      <th>V3</th>\n",
              "      <th>V4</th>\n",
              "      <th>V5</th>\n",
              "      <th>V6</th>\n",
              "      <th>V7</th>\n",
              "      <th>V8</th>\n",
              "      <th>V9</th>\n",
              "      <th>...</th>\n",
              "      <th>V21</th>\n",
              "      <th>V22</th>\n",
              "      <th>V23</th>\n",
              "      <th>V24</th>\n",
              "      <th>V25</th>\n",
              "      <th>V26</th>\n",
              "      <th>V27</th>\n",
              "      <th>V28</th>\n",
              "      <th>Amount</th>\n",
              "      <th>Class</th>\n",
              "    </tr>\n",
              "  </thead>\n",
              "  <tbody>\n",
              "    <tr>\n",
              "      <th>0</th>\n",
              "      <td>0.0</td>\n",
              "      <td>-1.359807</td>\n",
              "      <td>-0.072781</td>\n",
              "      <td>2.536347</td>\n",
              "      <td>1.378155</td>\n",
              "      <td>-0.338321</td>\n",
              "      <td>0.462388</td>\n",
              "      <td>0.239599</td>\n",
              "      <td>0.098698</td>\n",
              "      <td>0.363787</td>\n",
              "      <td>...</td>\n",
              "      <td>-0.018307</td>\n",
              "      <td>0.277838</td>\n",
              "      <td>-0.110474</td>\n",
              "      <td>0.066928</td>\n",
              "      <td>0.128539</td>\n",
              "      <td>-0.189115</td>\n",
              "      <td>0.133558</td>\n",
              "      <td>-0.021053</td>\n",
              "      <td>149.62</td>\n",
              "      <td>0</td>\n",
              "    </tr>\n",
              "    <tr>\n",
              "      <th>1</th>\n",
              "      <td>0.0</td>\n",
              "      <td>1.191857</td>\n",
              "      <td>0.266151</td>\n",
              "      <td>0.166480</td>\n",
              "      <td>0.448154</td>\n",
              "      <td>0.060018</td>\n",
              "      <td>-0.082361</td>\n",
              "      <td>-0.078803</td>\n",
              "      <td>0.085102</td>\n",
              "      <td>-0.255425</td>\n",
              "      <td>...</td>\n",
              "      <td>-0.225775</td>\n",
              "      <td>-0.638672</td>\n",
              "      <td>0.101288</td>\n",
              "      <td>-0.339846</td>\n",
              "      <td>0.167170</td>\n",
              "      <td>0.125895</td>\n",
              "      <td>-0.008983</td>\n",
              "      <td>0.014724</td>\n",
              "      <td>2.69</td>\n",
              "      <td>0</td>\n",
              "    </tr>\n",
              "    <tr>\n",
              "      <th>2</th>\n",
              "      <td>1.0</td>\n",
              "      <td>-1.358354</td>\n",
              "      <td>-1.340163</td>\n",
              "      <td>1.773209</td>\n",
              "      <td>0.379780</td>\n",
              "      <td>-0.503198</td>\n",
              "      <td>1.800499</td>\n",
              "      <td>0.791461</td>\n",
              "      <td>0.247676</td>\n",
              "      <td>-1.514654</td>\n",
              "      <td>...</td>\n",
              "      <td>0.247998</td>\n",
              "      <td>0.771679</td>\n",
              "      <td>0.909412</td>\n",
              "      <td>-0.689281</td>\n",
              "      <td>-0.327642</td>\n",
              "      <td>-0.139097</td>\n",
              "      <td>-0.055353</td>\n",
              "      <td>-0.059752</td>\n",
              "      <td>378.66</td>\n",
              "      <td>0</td>\n",
              "    </tr>\n",
              "    <tr>\n",
              "      <th>3</th>\n",
              "      <td>1.0</td>\n",
              "      <td>-0.966272</td>\n",
              "      <td>-0.185226</td>\n",
              "      <td>1.792993</td>\n",
              "      <td>-0.863291</td>\n",
              "      <td>-0.010309</td>\n",
              "      <td>1.247203</td>\n",
              "      <td>0.237609</td>\n",
              "      <td>0.377436</td>\n",
              "      <td>-1.387024</td>\n",
              "      <td>...</td>\n",
              "      <td>-0.108300</td>\n",
              "      <td>0.005274</td>\n",
              "      <td>-0.190321</td>\n",
              "      <td>-1.175575</td>\n",
              "      <td>0.647376</td>\n",
              "      <td>-0.221929</td>\n",
              "      <td>0.062723</td>\n",
              "      <td>0.061458</td>\n",
              "      <td>123.50</td>\n",
              "      <td>0</td>\n",
              "    </tr>\n",
              "    <tr>\n",
              "      <th>4</th>\n",
              "      <td>2.0</td>\n",
              "      <td>-1.158233</td>\n",
              "      <td>0.877737</td>\n",
              "      <td>1.548718</td>\n",
              "      <td>0.403034</td>\n",
              "      <td>-0.407193</td>\n",
              "      <td>0.095921</td>\n",
              "      <td>0.592941</td>\n",
              "      <td>-0.270533</td>\n",
              "      <td>0.817739</td>\n",
              "      <td>...</td>\n",
              "      <td>-0.009431</td>\n",
              "      <td>0.798278</td>\n",
              "      <td>-0.137458</td>\n",
              "      <td>0.141267</td>\n",
              "      <td>-0.206010</td>\n",
              "      <td>0.502292</td>\n",
              "      <td>0.219422</td>\n",
              "      <td>0.215153</td>\n",
              "      <td>69.99</td>\n",
              "      <td>0</td>\n",
              "    </tr>\n",
              "  </tbody>\n",
              "</table>\n",
              "<p>5 rows × 31 columns</p>\n",
              "</div>"
            ],
            "text/plain": [
              "   Time        V1        V2        V3        V4        V5        V6        V7  \\\n",
              "0   0.0 -1.359807 -0.072781  2.536347  1.378155 -0.338321  0.462388  0.239599   \n",
              "1   0.0  1.191857  0.266151  0.166480  0.448154  0.060018 -0.082361 -0.078803   \n",
              "2   1.0 -1.358354 -1.340163  1.773209  0.379780 -0.503198  1.800499  0.791461   \n",
              "3   1.0 -0.966272 -0.185226  1.792993 -0.863291 -0.010309  1.247203  0.237609   \n",
              "4   2.0 -1.158233  0.877737  1.548718  0.403034 -0.407193  0.095921  0.592941   \n",
              "\n",
              "         V8        V9  ...         V21       V22       V23       V24  \\\n",
              "0  0.098698  0.363787  ...   -0.018307  0.277838 -0.110474  0.066928   \n",
              "1  0.085102 -0.255425  ...   -0.225775 -0.638672  0.101288 -0.339846   \n",
              "2  0.247676 -1.514654  ...    0.247998  0.771679  0.909412 -0.689281   \n",
              "3  0.377436 -1.387024  ...   -0.108300  0.005274 -0.190321 -1.175575   \n",
              "4 -0.270533  0.817739  ...   -0.009431  0.798278 -0.137458  0.141267   \n",
              "\n",
              "        V25       V26       V27       V28  Amount  Class  \n",
              "0  0.128539 -0.189115  0.133558 -0.021053  149.62      0  \n",
              "1  0.167170  0.125895 -0.008983  0.014724    2.69      0  \n",
              "2 -0.327642 -0.139097 -0.055353 -0.059752  378.66      0  \n",
              "3  0.647376 -0.221929  0.062723  0.061458  123.50      0  \n",
              "4 -0.206010  0.502292  0.219422  0.215153   69.99      0  \n",
              "\n",
              "[5 rows x 31 columns]"
            ]
          },
          "metadata": {
            "tags": []
          },
          "execution_count": 11
        }
      ]
    },
    {
      "metadata": {
        "id": "zoYDQTbrf_Z3",
        "colab_type": "code",
        "colab": {
          "base_uri": "https://localhost:8080/",
          "height": 354
        },
        "outputId": "5d58180b-8436-42ea-ab69-c1f4c033c2e2"
      },
      "cell_type": "code",
      "source": [
        "sns.countplot(\"Class\",data=df) #visualisasi data berdasarkan kolom kelas"
      ],
      "execution_count": 12,
      "outputs": [
        {
          "output_type": "stream",
          "text": [
            "/usr/local/lib/python3.6/dist-packages/seaborn/categorical.py:1428: FutureWarning: remove_na is deprecated and is a private function. Do not use.\n",
            "  stat_data = remove_na(group_data)\n"
          ],
          "name": "stderr"
        },
        {
          "output_type": "execute_result",
          "data": {
            "text/plain": [
              "<matplotlib.axes._subplots.AxesSubplot at 0x7f8a1749e6a0>"
            ]
          },
          "metadata": {
            "tags": []
          },
          "execution_count": 12
        },
        {
          "output_type": "display_data",
          "data": {
            "image/png": "[encoded data removed]",
            "text/plain": [
              "<matplotlib.figure.Figure at 0x7f8a1749eb00>"
            ]
          },
          "metadata": {
            "tags": []
          }
        }
      ]
    },
    {
      "metadata": {
        "id": "FCOUUrvEmNx9",
        "colab_type": "code",
        "colab": {
          "base_uri": "https://localhost:8080/",
          "height": 72
        },
        "outputId": "3429c2fb-c508-4022-e3a3-c3fcb470864f"
      },
      "cell_type": "code",
      "source": [
        "df['Class'].value_counts()"
      ],
      "execution_count": 13,
      "outputs": [
        {
          "output_type": "execute_result",
          "data": {
            "text/plain": [
              "0    284315\n",
              "1       492\n",
              "Name: Class, dtype: int64"
            ]
          },
          "metadata": {
            "tags": []
          },
          "execution_count": 13
        }
      ]
    },
    {
      "metadata": {
        "id": "iFtq63irgJX1",
        "colab_type": "code",
        "colab": {
          "base_uri": "https://localhost:8080/",
          "height": 72
        },
        "outputId": "75dedcc5-c358-4114-dfd0-ebd70658f405"
      },
      "cell_type": "code",
      "source": [
        "# cek persen data imbalanced\n",
        "jmlKelasNormal = len(df[df[\"Class\"]==0])\n",
        "jmlKelasFraud = len(df[df[\"Class\"]==1])\n",
        "print(\"data kelas normal = \",jmlKelasNormal/(jmlKelasNormal+jmlKelasFraud)*100,\"persen\")\n",
        "print(\"data kelas fraud = \",jmlKelasFraud/(jmlKelasNormal+jmlKelasFraud)*100,\"persen\")\n",
        "print(\"rasio = \",round(jmlKelasNormal/jmlKelasFraud,0), \": 1\")"
      ],
      "execution_count": 14,
      "outputs": [
        {
          "output_type": "stream",
          "text": [
            "data kelas normal =  99.82725143693798 persen\n",
            "data kelas fraud =  0.1727485630620034 persen\n",
            "rasio =  578.0 : 1\n"
          ],
          "name": "stdout"
        }
      ]
    },
    {
      "metadata": {
        "id": "r2ZNIsS_pn21",
        "colab_type": "text"
      },
      "cell_type": "markdown",
      "source": [
        "Dari hasil pemaparan diatas, jelas terlihat bahwa dataset imbalanced. dengan jumlah kelas major sebanyak 284315 (~99%) dan kelas lainnya (minor) hanya 492(~0.17%). Rasio kedua kelas tersebut yaitu 578 : 1\n",
        "\n",
        "Lalu bagaimana jika dataset imbalanced tersebut dilakukan training model? Kali ini akan dicoba training model dengan algoritma Logistic Regression yang sangat simpel dengan cross-validation. Kenapa memilih Logistic Regression? Karena hanya terdapat 2 kelas saja dan menurut saya algoritma ini cukup baik dalam mengklasifikasikannya."
      ]
    },
    {
      "metadata": {
        "id": "WS_O_ChFluuV",
        "colab_type": "code",
        "colab": {
          "base_uri": "https://localhost:8080/",
          "height": 74
        },
        "outputId": "e09a5635-9ceb-4c54-c409-755232b51b2c"
      },
      "cell_type": "code",
      "source": [
        "from sklearn.linear_model import LogisticRegression\n",
        "from xgboost import XGBClassifier\n",
        "from sklearn.cross_validation import train_test_split\n",
        "from sklearn.metrics import accuracy_score"
      ],
      "execution_count": 15,
      "outputs": [
        {
          "output_type": "stream",
          "text": [
            "/usr/local/lib/python3.6/dist-packages/sklearn/cross_validation.py:41: DeprecationWarning: This module was deprecated in version 0.18 in favor of the model_selection module into which all the refactored classes and functions are moved. Also note that the interface of the new CV iterators are different from that of this module. This module will be removed in 0.20.\n",
            "  \"This module will be removed in 0.20.\", DeprecationWarning)\n"
          ],
          "name": "stderr"
        }
      ]
    },
    {
      "metadata": {
        "id": "8vw69vu9l3la",
        "colab_type": "code",
        "colab": {
          "base_uri": "https://localhost:8080/",
          "height": 35
        },
        "outputId": "98a57e71-0033-4c24-ad99-82d0a07cc90e"
      },
      "cell_type": "code",
      "source": [
        "model = LogisticRegression()\n",
        "\n",
        "input_data = df.columns[:-2] #kolom yang digunakan sebagai input sebanyak 30 kolom (tanpa kolom Class)\n",
        "\n",
        "X = df[input_data]\n",
        "y = df['Class']\n",
        "\n",
        "X_train, X_test, y_train, y_test = train_test_split(X, y, test_size=0.2, random_state=1)\n",
        "\n",
        "model.fit(X_train, y_train)\n",
        "y_pred = model.predict(X_test)\n",
        "\n",
        "accuracy = accuracy_score(y_test, y_pred)\n",
        "print(\"Accuracy: %.2f%%\" % (accuracy * 100.0))"
      ],
      "execution_count": 16,
      "outputs": [
        {
          "output_type": "stream",
          "text": [
            "Accuracy: 99.90%\n"
          ],
          "name": "stdout"
        }
      ]
    },
    {
      "metadata": {
        "id": "k-gAKME9xGLd",
        "colab_type": "text"
      },
      "cell_type": "markdown",
      "source": [
        "Jadi, hasil prediksi modelnya sebesar ~99%, namun apakah hasil yang didapat adalah hasil yang sudah sesuai? untuk mengetahuinya bisa dengan cara melihat isi **y_pred**"
      ]
    },
    {
      "metadata": {
        "id": "rFasl581uyE3",
        "colab_type": "code",
        "colab": {
          "base_uri": "https://localhost:8080/",
          "height": 54
        },
        "outputId": "87bfac3e-995a-40a4-dfff-2178fbab1f0f"
      },
      "cell_type": "code",
      "source": [
        "subset_of_A = [1]\n",
        "jmlClassOne = list(filter(lambda x: x in subset_of_A, y_pred))\n",
        "print(len(jmlClassOne)) #kelas transaksi fraud\n",
        "jmlClassZero = list(filter(lambda x: x not in subset_of_A, y_pred))\n",
        "print(len(jmlClassZero)) #kelas transaksi normal"
      ],
      "execution_count": 17,
      "outputs": [
        {
          "output_type": "stream",
          "text": [
            "78\n",
            "56884\n"
          ],
          "name": "stdout"
        }
      ]
    },
    {
      "metadata": {
        "id": "_tVd2c2izSgG",
        "colab_type": "text"
      },
      "cell_type": "markdown",
      "source": [
        "Yang menyebabkan hasil akurasi sangat besar ternyata model hampir selalu memprediksi kelas yang bernilai 1, hal itu disebabkan pada saat training model, data yang digunakan untuk proses learning juga lebih condong ke kelas 1(kelas normal), sehingga model yang didapat pada training tidak bagus. itulah efek/dampak ketika melakukan training model pada dataset yang imbalanced, hasil prediksi hampir selalu mengabaikan kelas yg minor."
      ]
    },
    {
      "metadata": {
        "id": "X6l_9fDZnwsw",
        "colab_type": "text"
      },
      "cell_type": "markdown",
      "source": [
        "## (2) In the case of image dataset (E.g. image classification dataset), please explain how to tackle dataset imbalance problem using the following case study :"
      ]
    },
    {
      "metadata": {
        "id": "8n6xAou4op6U",
        "colab_type": "text"
      },
      "cell_type": "markdown",
      "source": [
        "### a.   You have a training dataset for image classification containing 150 images of truck, 200 images of car, and 10000 images of motorcycle."
      ]
    },
    {
      "metadata": {
        "id": "7vjUhER13EUM",
        "colab_type": "text"
      },
      "cell_type": "markdown",
      "source": [
        "##Jawaban:\n",
        "\n",
        "Ada beberapa cara untuk mengatasi dataset imbalance problem berdasarkan studi kasus diatas, yaitu:\n",
        "\n",
        "1. **Cari(kumpulkan) lagi dataset untuk gambar truk dan mobil (Image Scraping)**, saya asusikan bahwa kelas truck, car, dan motorcycles hanya kelas umum, maksudnya apapun jenis truk akan termasuk kedalam kelas truck, begitupun dengan car, dan motorcyles. \n",
        "Ini tentu akan lebih mudah mendapatkan dataset untuk mengatasi dataset imbalance, karena hanya perlu mengumpulkan gambar-gambar yang termasuk truck, dan car, hingga jumlah gambar yang dikumpulkan dianggap cukup, atau setidaknya persentasi antar ketiga kelas tersebut tidak terlalu berbeda jauh.\n",
        "\n",
        "2. **Augmentasi Data**, yaitu meningkatkan jumlah training data berdasarkan hanya dengan informasi-informasi yang ada pada training data tersebut. Singkatnya, cara untuk membuat data baru dengan orientasi yang berbeda. Orientasi yang dimaksud yaitu anggap saja seperti saat ingin melakukan edit gambar, bisa dengan melakukan zoom, flip gambar(vertikal/horizontal), rotasi gambar, crop gambar, dll. Jadi, dari satu gambar bisa didapatkan banyak gambar baru dengan variasi yang berbeda.\n"
      ]
    },
    {
      "metadata": {
        "id": "2UxeySCd-ewZ",
        "colab_type": "text"
      },
      "cell_type": "markdown",
      "source": [
        "Saya akan coba mengimplentasikan cara yang pertama dalam mengatasi imbalanced dataset, yaitu mengoleksi lagi gambar-gambar kelas truck dan car. Namun, saya hanya mencoba mengkoleksi data untuk salah satu kelas saja, dan hanya mengkoleksi gambar sejumlah 10 buah saja(untuk kepentingan demonstrasi metode saja). anggap saja mengkoleksi data untuk kedua kelas karena caranya sama."
      ]
    },
    {
      "metadata": {
        "id": "UyoAMyfhovHL",
        "colab_type": "code",
        "colab": {
          "base_uri": "https://localhost:8080/",
          "height": 255
        },
        "outputId": "049e753a-d360-446a-d880-aa96b520fbc6"
      },
      "cell_type": "code",
      "source": [
        "#proses mengkoleksi data secara secara otomatis/ scraping gambar\n",
        "!pip install google_images_download"
      ],
      "execution_count": 18,
      "outputs": [
        {
          "output_type": "stream",
          "text": [
            "Collecting google_images_download\n",
            "  Downloading https://files.pythonhosted.org/packages/43/51/49ebfd3a02945974b1d93e34bb96a1f9530a0dde9c2bc022b30fd658edd6/google_images_download-2.5.0.tar.gz\n",
            "Collecting selenium (from google_images_download)\n",
            "\u001b[?25l  Downloading https://files.pythonhosted.org/packages/80/d6/4294f0b4bce4de0abf13e17190289f9d0613b0a44e5dd6a7f5ca98459853/selenium-3.141.0-py2.py3-none-any.whl (904kB)\n",
            "\u001b[K    100% |████████████████████████████████| 911kB 17.6MB/s \n",
            "\u001b[?25hRequirement already satisfied: urllib3 in /usr/local/lib/python3.6/dist-packages (from selenium->google_images_download) (1.22)\n",
            "Building wheels for collected packages: google-images-download\n",
            "  Running setup.py bdist_wheel for google-images-download ... \u001b[?25l-\b \bdone\n",
            "\u001b[?25h  Stored in directory: /root/.cache/pip/wheels/d2/23/84/3cec6d566b88bef64ad727a7e805f6544b8af4a8f121f9691c\n",
            "Successfully built google-images-download\n",
            "Installing collected packages: selenium, google-images-download\n",
            "Successfully installed google-images-download-2.5.0 selenium-3.141.0\n"
          ],
          "name": "stdout"
        }
      ]
    },
    {
      "metadata": {
        "id": "y71eX__sCyYt",
        "colab_type": "code",
        "colab": {
          "base_uri": "https://localhost:8080/",
          "height": 546
        },
        "outputId": "003abb5e-d620-453f-fd67-73d81817907d"
      },
      "cell_type": "code",
      "source": [
        "from google_images_download import google_images_download  \n",
        "\n",
        "response = google_images_download.googleimagesdownload()\n",
        "\n",
        "#arguments = {\"keywords\":\"Polar bears,baloons,Beaches\",\"limit\":20,\"print_urls\":True}   #keyword bisa lebih dari 1, disesuaikan dengan kebutuhan\n",
        "arguments = {\"keywords\":\"car\",\"limit\":10,\"print_urls\":True}   #hanya 1 keyword, dan mengoleksi 10 gambar\n",
        "paths = response.download(arguments)\n",
        "print(paths)\n",
        "\n",
        "#Hasil download gambar bisa dilihat pada tab \"Files\" pada notebook"
      ],
      "execution_count": 19,
      "outputs": [
        {
          "output_type": "stream",
          "text": [
            "\n",
            "Item no.: 1 --> Item name = car\n",
            "Evaluating...\n",
            "Starting Download...\n",
            "Image URL: https://media.wired.com/photos/5b86fce8900cb57bbfd1e7ee/master/pass/Jaguar_I-PACE_S_Indus-Silver_065.jpg\n",
            "Completed Image ====> 1. jaguar_i-pace_s_indus-silver_065.jpg\n",
            "Image URL: https://www.popsci.com/sites/popsci.com/files/styles/1000_1x_/public/images/2018/03/senna.jpg?itok=eYNPMGjA&fc=50,50\n",
            "Completed Image ====> 2. senna.jpg\n",
            "Image URL: https://media.wired.com/photos/59bafdf204afdc5248726f5c/master/w_2400,c_limit/BMW-TA.jpg\n",
            "Completed Image ====> 3. bmw-ta.jpg\n",
            "Image URL: https://cdn.motor1.com/images/mgl/qxZrL/s3/25-future-cars-worth-waiting-for.jpg\n",
            "Completed Image ====> 4. 25-future-cars-worth-waiting-for.jpg\n",
            "Image URL: https://hips.hearstapps.com/hmg-prod/images/2017-honda-civic-si-vs-2018-volkswagen-golf-gti-comparison-test-placement-1524248453.jpg\n",
            "Completed Image ====> 5. 2017-honda-civic-si-vs-2018-volkswagen-golf-gti-comparison-test-placement-1524248453.jpg\n",
            "Image URL: https://cdn.vox-cdn.com/uploads/chorus_image/image/59319581/A182669_medium.0.jpg\n",
            "Completed Image ====> 6. a182669_medium.0.jpg\n",
            "Image URL: https://article.images.consumerreports.org/prod/content/dam/CRO%20Images%202017/Magazine-Articles/April/CR-Inline-top-picks-Toyota-Yaris-02-17\n",
            "Completed Image ====> 7. cr-inline-top-picks-toyota-yaris-02-17.jpg\n",
            "Image URL: https://cars.usnews.com/static/images/Auto/izmo/i36138917/2018_genesis_g80_angularfront.jpg\n",
            "Completed Image ====> 8. 2018_genesis_g80_angularfront.jpg\n",
            "Image URL: https://amp.businessinsider.com/images/592f4169b74af41b008b5977-750-563.jpg\n",
            "Completed Image ====> 9. 592f4169b74af41b008b5977-750-563.jpg\n",
            "Image URL: https://hips.hearstapps.com/amv-prod-cad-assets.s3.amazonaws.com/media/assets/submodel/7817.jpg\n",
            "Completed Image ====> 10. 7817.jpg\n",
            "\n",
            "Errors: 0\n",
            "\n",
            "{'car': ['/content/downloads/car/1. jaguar_i-pace_s_indus-silver_065.jpg', '/content/downloads/car/2. senna.jpg', '/content/downloads/car/3. bmw-ta.jpg', '/content/downloads/car/4. 25-future-cars-worth-waiting-for.jpg', '/content/downloads/car/5. 2017-honda-civic-si-vs-2018-volkswagen-golf-gti-comparison-test-placement-1524248453.jpg', '/content/downloads/car/6. a182669_medium.0.jpg', '/content/downloads/car/7. cr-inline-top-picks-toyota-yaris-02-17.jpg', '/content/downloads/car/8. 2018_genesis_g80_angularfront.jpg', '/content/downloads/car/9. 592f4169b74af41b008b5977-750-563.jpg', '/content/downloads/car/10. 7817.jpg']}\n"
          ],
          "name": "stdout"
        }
      ]
    },
    {
      "metadata": {
        "id": "pOJH1PUTERSk",
        "colab_type": "text"
      },
      "cell_type": "markdown",
      "source": [
        "Selanjutnya saya akan mengimplementasikan cara yang kedua, yaitu Data Augmentation. biasanya cara ini dilakukan ketika ingin melakukan klasifikasi dengan metode Deep Learning."
      ]
    },
    {
      "metadata": {
        "id": "d30M5BH7Eq89",
        "colab_type": "code",
        "colab": {
          "base_uri": "https://localhost:8080/",
          "height": 201
        },
        "outputId": "15a2d033-3420-424e-90a5-5f3307e55d29"
      },
      "cell_type": "code",
      "source": [
        "!pip install Augmentor"
      ],
      "execution_count": 20,
      "outputs": [
        {
          "output_type": "stream",
          "text": [
            "Collecting Augmentor\n",
            "  Downloading https://files.pythonhosted.org/packages/4d/f4/b0eaa9d3b4120a5450ac92d4417907ca60fad5749c1f50ed95f720792350/Augmentor-0.2.3-py2.py3-none-any.whl\n",
            "Requirement already satisfied: Pillow>=4.0.0 in /usr/local/lib/python3.6/dist-packages (from Augmentor) (4.0.0)\n",
            "Requirement already satisfied: future>=0.16.0 in /usr/local/lib/python3.6/dist-packages (from Augmentor) (0.16.0)\n",
            "Requirement already satisfied: tqdm>=4.9.0 in /usr/local/lib/python3.6/dist-packages (from Augmentor) (4.28.1)\n",
            "Requirement already satisfied: numpy>=1.11.0 in /usr/local/lib/python3.6/dist-packages (from Augmentor) (1.14.6)\n",
            "Requirement already satisfied: olefile in /usr/local/lib/python3.6/dist-packages (from Pillow>=4.0.0->Augmentor) (0.46)\n",
            "Installing collected packages: Augmentor\n",
            "Successfully installed Augmentor-0.2.3\n"
          ],
          "name": "stdout"
        }
      ]
    },
    {
      "metadata": {
        "id": "5K3k-7BcHlnR",
        "colab_type": "code",
        "colab": {
          "base_uri": "https://localhost:8080/",
          "height": 54
        },
        "outputId": "294a45d7-c546-4e88-ab40-c50b96a902c3"
      },
      "cell_type": "code",
      "source": [
        "import Augmentor\n",
        "\n",
        "p = Augmentor.Pipeline(\"downloads/car\")"
      ],
      "execution_count": 21,
      "outputs": [
        {
          "output_type": "stream",
          "text": [
            "Initialised with 10 image(s) found.\n",
            "Output directory set to downloads/car/output."
          ],
          "name": "stdout"
        }
      ]
    },
    {
      "metadata": {
        "id": "HpxQeXxeGyKj",
        "colab_type": "code",
        "colab": {}
      },
      "cell_type": "code",
      "source": [
        "p.rotate90(probability=0.5)\n",
        "p.rotate270(probability=0.5)\n",
        "p.flip_left_right(probability=0.8)\n",
        "p.flip_top_bottom(probability=0.3)\n",
        "p.crop_random(probability=1, percentage_area=0.5)\n",
        "p.resize(probability=1.0, width=120, height=120)"
      ],
      "execution_count": 0,
      "outputs": []
    },
    {
      "metadata": {
        "id": "xIyogVlnH-62",
        "colab_type": "code",
        "colab": {
          "base_uri": "https://localhost:8080/",
          "height": 55
        },
        "outputId": "10828779-8376-41d9-dd1a-763b015e8823"
      },
      "cell_type": "code",
      "source": [
        "p.sample(100)\n",
        "#Hasil augmentasi berada di folder downloads/car/output"
      ],
      "execution_count": 23,
      "outputs": [
        {
          "output_type": "stream",
          "text": [
            "Processing <PIL.Image.Image image mode=RGB size=120x120 at 0x7F8A110B69B0>: 100%|██████████| 100/100 [00:07<00:00, 13.82 Samples/s]\n"
          ],
          "name": "stderr"
        }
      ]
    },
    {
      "metadata": {
        "id": "MpCMZvE3JP1i",
        "colab_type": "code",
        "colab": {}
      },
      "cell_type": "code",
      "source": [
        ""
      ],
      "execution_count": 0,
      "outputs": []
    },
    {
      "metadata": {
        "id": "LVeDuVMapjWl",
        "colab_type": "text"
      },
      "cell_type": "markdown",
      "source": [
        "## (3) Please explain the image resolution data (E.g. 720x1080 pixels) impact on deep learning models"
      ]
    },
    {
      "metadata": {
        "id": "uKwsk7FnEfRS",
        "colab_type": "text"
      },
      "cell_type": "markdown",
      "source": [
        "##Jawaban:\n",
        "\n",
        "resolusi gambar berdampak pada beberapa hal dalam deep learning. Karena deep learning bekerja pada gambar pixel by pixel, jika resolusi data gambar besar tentu banyak sekali ciri yang bisa di ektraksi, hasil ekstraksi ciri ini akan mempengaruhi hasil klasifikasi jadi lebih baik. Akan tetapi, resolusi gambar yang besar juga menyebabkan ukuran data juga besar, ini mempengaruhi cpu/gpu dalam memproses gambar untuk melakukan training data. Jika spesifikasi cpu/gpu standar, waktu yang digunakan selama proses training akan sangat lama bahkan tidak mampu melakukan training. Selain itu, dampak menggunakan resolusi gambar yang besar yaitu proses komputasi juga akan lebih berat"
      ]
    },
    {
      "metadata": {
        "id": "tpnUjaiopq_m",
        "colab_type": "text"
      },
      "cell_type": "markdown",
      "source": [
        "## (4) There are two common activation which can be used as output of the deep learning model for classification task ‘softmax’ and ‘sigmoid’. Explain briefly the two activations and give the proper problem example for their usage."
      ]
    },
    {
      "metadata": {
        "id": "Hq5Bre-pjnUS",
        "colab_type": "text"
      },
      "cell_type": "markdown",
      "source": [
        "##Jawaban: \n",
        "\n",
        "Sigmoid dan Softmax merupakan salah satu fungsi yang keluarannya berupa probabilitas dengan range angka 0-1.\n",
        "\n",
        "Namun, keduanya terdapat perbedaan. yaitu, pada fungsi softmax, tiap angka probabilitas hasil keluaran berjumlah 1(misal, output softmax = [0.3, 0,5, 0.2] = 1). sedangkan sigmoid tidak.\n",
        "\n",
        "dalam penerapannya pada metode deep learning khususnya CNN, fungsi softmax biasanya digunakan pada output layer untuk melakukan klasifikasi, karena hasil klasifikasi bisa didapat melalui angka probabilitas yang tertingi. Sedangkan fungsi sigmoid digunakan untuk fungsi aktivasi pada layer konvolusi pada saat proses ekstraksi ciri.\n"
      ]
    },
    {
      "metadata": {
        "id": "5g00iXpwBRMr",
        "colab_type": "text"
      },
      "cell_type": "markdown",
      "source": [
        "Saya akan mencoba mendemonstrasikan tentang bagaimana fungsi sigmoid dan softmax bekerja, dan apa perbedaan output keduanya, dengan menggunakan dataset iris sebagai inputnya"
      ]
    },
    {
      "metadata": {
        "id": "8SVBDcqfpz3p",
        "colab_type": "code",
        "colab": {
          "base_uri": "https://localhost:8080/",
          "height": 110
        },
        "outputId": "71282748-a709-45e9-c86a-eb6db79f6c77"
      },
      "cell_type": "code",
      "source": [
        "from sklearn import datasets\n",
        "np.set_printoptions(precision=3)\n",
        "iris = datasets.load_iris()\n",
        "X = iris.data\n",
        "y = iris.target\n",
        "\n",
        "\n",
        "def sigmoid(inputs):\n",
        "    \"\"\"\n",
        "    Calculate the sigmoid for the give inputs (array)\n",
        "    :param inputs:\n",
        "    :return:\n",
        "    \"\"\"\n",
        "    sigmoid_scores = [1 / float(1 + np.exp(- x)) for x in inputs]\n",
        "    return sigmoid_scores\n",
        "\n",
        "def softmax(inputs):\n",
        "    \"\"\"\n",
        "    Calculate the softmax for the give inputs (array)\n",
        "    :param inputs:\n",
        "    :return:\n",
        "    \"\"\"\n",
        "    return np.exp(inputs) / float(sum(np.exp(inputs)))\n",
        "\n",
        "\n",
        "print (\"Hasil keluaran fungsi Sigmoid :: {}\".format(sigmoid(X[0])))\n",
        "print(\"total nilai probabilitas = \",sum(sigmoid(X[0])))\n",
        "print (\"Hasil keluaran fungsi Softmax :: {}\".format(softmax(X[0])))\n",
        "print(\"total nilai probabilitas = \",sum(softmax(X[0])))\n"
      ],
      "execution_count": 24,
      "outputs": [
        {
          "output_type": "stream",
          "text": [
            "Hasil keluaran fungsi Sigmoid :: [0.9939401985084158, 0.9706877692486436, 0.8021838885585817, 0.549833997312478]\n",
            "total nilai probabilitas =  3.316645853628119\n",
            "Hasil keluaran fungsi Softmax :: [0.81  0.164 0.02  0.006]\n",
            "total nilai probabilitas =  1.0\n"
          ],
          "name": "stdout"
        }
      ]
    },
    {
      "metadata": {
        "id": "TqnEgA_hBQQm",
        "colab_type": "text"
      },
      "cell_type": "markdown",
      "source": [
        "Bisa dilihat bahwa output yang didapat dari kedua fungsi diatas, terdapat perbedaan, yaitu nilai probabilitas maksimal pada fungsi softmax adalah 1 sedangkan sigmoid tidak. itulah mengapa fungsi softmax dalam CNN digunakan pada layer output karena hasil klasifikasi melihat dari besarnya nilai probabilitas."
      ]
    },
    {
      "metadata": {
        "id": "Yt0niGPkp7gj",
        "colab_type": "text"
      },
      "cell_type": "markdown",
      "source": [
        "## (5) Please explain in your own word the following hyperparameter of the convolutional layer :"
      ]
    },
    {
      "metadata": {
        "id": "0pq-52XFq4mK",
        "colab_type": "text"
      },
      "cell_type": "markdown",
      "source": [
        "##Jawaban:"
      ]
    },
    {
      "metadata": {
        "id": "pHluRW98p-pt",
        "colab_type": "text"
      },
      "cell_type": "markdown",
      "source": [
        "### a. Num of Filter"
      ]
    },
    {
      "metadata": {
        "id": "gMiSwfZfO2lP",
        "colab_type": "text"
      },
      "cell_type": "markdown",
      "source": [
        "Filter merupakan proses sliding ke semua area dari input image. Setiap sliding dilakukan operasi dot antara input image dan nilai dari filter tersebut. Hasil output dari proses filter dinamakan feature map.\n",
        "\n",
        "Num of filter adalah jumlah filter pada kernel(convolutional filters). pada contoh dibawah ukuran kernel 3x3, dan num of filternya 3\n",
        "<img src=\"https://cdn-images-1.medium.com/max/800/1*vx4znxNS8UaQIy7Exddx_Q.gif\" style=\"width:620;height:440;\">"
      ]
    },
    {
      "metadata": {
        "id": "TDYiEc9QqYXO",
        "colab_type": "text"
      },
      "cell_type": "markdown",
      "source": [
        "### b. Kernel Size"
      ]
    },
    {
      "metadata": {
        "id": "nzDQRWJ5XZLC",
        "colab_type": "text"
      },
      "cell_type": "markdown",
      "source": [
        "Kernel pada layer konvolusi yaitu convolutional filter, dalam kata lain, kernel adalah filter itu sendiri.\n",
        "\n",
        "<img src=\"https://i.stack.imgur.com/9OZKF.gif\" style=\"width:620;height:440;\">\n",
        "\n",
        "pada gambar diatas, kernel matrix itulah yang disebut kernel. Sedangkan kernel size merujuk kepada ukuran PxL dari kernel\n",
        "pada contoh diatas, kernel sizenya yaitu 3x3"
      ]
    },
    {
      "metadata": {
        "id": "aJXmqoHbqej-",
        "colab_type": "text"
      },
      "cell_type": "markdown",
      "source": [
        "### c. Strides"
      ]
    },
    {
      "metadata": {
        "id": "XTO2CRLLYooL",
        "colab_type": "text"
      },
      "cell_type": "markdown",
      "source": [
        "Strides merupakan parameter yang menentukan berapa jumlah pergeseran filter terhadap input imagenya. misal stridenya 1, berarti pergeseran filternya sebanyak 1 pixel secara horizontal lalu vertikal.\n",
        "\n",
        "<img src=\"http://machinelearninguru.com/_images/topics/computer_vision/basics/convolutional_layer_1/stride1.gif\" style=\"width:620;height:440;\">\n",
        "\n",
        "<img src=\"http://machinelearninguru.com/_images/topics/computer_vision/basics/convolutional_layer_1/stride2.gif\" style=\"width:620;height:440;\">\n",
        "\n",
        "pada gambar diatas adalah contoh pergeseran filter jika menggunakan strides 1 dan 2"
      ]
    },
    {
      "metadata": {
        "id": "nTIF8ogadmKh",
        "colab_type": "text"
      },
      "cell_type": "markdown",
      "source": [
        "Contoh implementasi pergeseran filter dengan jumlah Strides tertentu:"
      ]
    },
    {
      "metadata": {
        "id": "7J4ikUzoqn_3",
        "colab_type": "code",
        "colab": {}
      },
      "cell_type": "code",
      "source": [
        "def get_slice(X, H_start, W_start, H, W):\n",
        "    \"\"\"\n",
        "    Slicing X input in shape of f_size from postition H_start and W_start\n",
        "    Input:\n",
        "    - X       : Input data of shape (H, W, C)\n",
        "    - H_start : height (vertical) position to begin the slicing\n",
        "    - W_start : width (horizontal) position to begin the slicing\n",
        "    - H       : height slice\n",
        "    - W       : width slice\n",
        "    \n",
        "    Returns:\n",
        "    - slices : a slice of data of shape (H, W, C)\n",
        "    \"\"\"\n",
        "    slices = X[H_start:H+H_start,W_start:W+W_start,:]\n",
        "    \n",
        "    return slices"
      ],
      "execution_count": 0,
      "outputs": []
    },
    {
      "metadata": {
        "id": "Z4bEx1Pwd9DO",
        "colab_type": "code",
        "colab": {
          "base_uri": "https://localhost:8080/",
          "height": 163
        },
        "outputId": "8202d58a-ff50-4d96-c1ba-e0c4bb3dc7c5"
      },
      "cell_type": "code",
      "source": [
        "#INISIALISASI INPUT IMAGE DAN KERNEL SIZE\n",
        "np.random.seed(15)\n",
        "X_int = np.random.randint(0,2,(5,5,1))\n",
        "print('INPUT IMAGE')\n",
        "print('X_int =')\n",
        "print('\\n'.join(' '.join(str(cell) for cell in row) for row in X_int[:,:,0]))\n",
        "print()\n",
        "\n",
        "\n",
        "f_size = 3 #kernel size\n"
      ],
      "execution_count": 26,
      "outputs": [
        {
          "output_type": "stream",
          "text": [
            "INPUT IMAGE\n",
            "X_int =\n",
            "0 1 0 1 1\n",
            "0 0 1 1 1\n",
            "1 0 1 1 1\n",
            "1 1 1 0 0\n",
            "0 1 0 1 1\n",
            "\n"
          ],
          "name": "stdout"
        }
      ]
    },
    {
      "metadata": {
        "id": "Jthu5Q16gk4a",
        "colab_type": "text"
      },
      "cell_type": "markdown",
      "source": [
        "input size(N) = 5x5, filter size(F) = 3x3 . Strides=2, maka akan ada 4 kali proses sliding \n",
        "\n",
        "dan outputnya(feature map) = 2x2 \n",
        "\n",
        "Output = ((N-F) / Strides) + 1\n",
        "= ((5-3)/2) +1 = 1+1 =** 2**\n"
      ]
    },
    {
      "metadata": {
        "id": "hzYohcOteclq",
        "colab_type": "code",
        "colab": {
          "base_uri": "https://localhost:8080/",
          "height": 417
        },
        "outputId": "e3e24b09-e4b4-4996-f0df-f9765aa1c42d"
      },
      "cell_type": "code",
      "source": [
        "#Strides = 2\n",
        "stride = 2\n",
        "output_h = 2\n",
        "output_w = 2\n",
        "\n",
        "for h in range(output_h):\n",
        "    \n",
        "    print('---')\n",
        "    for w in range(output_w):\n",
        "        \n",
        "        slices = get_slice(X_int, \n",
        "                           h*stride, \n",
        "                           w*stride, f_size,f_size)\n",
        "        print('h =',h,',w =',w, ', shape =',slices.shape)\n",
        "        print('\\n'.join(' '.join(str(cell) for cell in row) for row in slices[:,:,0]))\n",
        "        print()\n",
        "    \n"
      ],
      "execution_count": 27,
      "outputs": [
        {
          "output_type": "stream",
          "text": [
            "---\n",
            "h = 0 ,w = 0 , shape = (3, 3, 1)\n",
            "0 1 0\n",
            "0 0 1\n",
            "1 0 1\n",
            "\n",
            "h = 0 ,w = 1 , shape = (3, 3, 1)\n",
            "0 1 1\n",
            "1 1 1\n",
            "1 1 1\n",
            "\n",
            "---\n",
            "h = 1 ,w = 0 , shape = (3, 3, 1)\n",
            "1 0 1\n",
            "1 1 1\n",
            "0 1 0\n",
            "\n",
            "h = 1 ,w = 1 , shape = (3, 3, 1)\n",
            "1 1 1\n",
            "1 0 0\n",
            "0 1 1\n",
            "\n"
          ],
          "name": "stdout"
        }
      ]
    },
    {
      "metadata": {
        "id": "B40bS01JqjSR",
        "colab_type": "text"
      },
      "cell_type": "markdown",
      "source": [
        "### d. Padding"
      ]
    },
    {
      "metadata": {
        "id": "hQ7zobz_aDv7",
        "colab_type": "text"
      },
      "cell_type": "markdown",
      "source": [
        "Padding/Zero Padding merupakan penambahan angka 0 untuk setiap border dari input image. pada contoh dibawah, melakukan padding\n",
        "\n",
        "<img src=\"https://image.ibb.co/eYz6dz/PAD.png\" style=\"width:600px;height:400px;\">\n",
        "<caption><center>**Zero-Padding**<br> Image (3 channels, RGB) with a padding of 2. </center></caption>"
      ]
    },
    {
      "metadata": {
        "id": "bM1ton3tdQ0z",
        "colab_type": "text"
      },
      "cell_type": "markdown",
      "source": [
        "Contoh implementasi Padding: "
      ]
    },
    {
      "metadata": {
        "id": "489_CSipqnLZ",
        "colab_type": "code",
        "colab": {}
      },
      "cell_type": "code",
      "source": [
        "def zero_pad(X, pad):\n",
        "    \"\"\"\n",
        "    Pad with zeros all images of the dataset X. The padding is applied to the height and width of an image, \n",
        "    as illustrated in Figure 1.\n",
        "    \n",
        "    Argument:\n",
        "    X -- python numpy array of shape (m, n_H, n_W, n_C) representing a batch of m images\n",
        "    pad -- integer, amount of padding around each image on vertical and horizontal dimensions\n",
        "    \n",
        "    Returns:\n",
        "    X_pad -- padded image of shape (m, n_H + 2*pad, n_W + 2*pad, n_C)\n",
        "    \"\"\"\n",
        "    \n",
        "    X_pad = np.pad(X, ((0,0), (pad,pad), (pad,pad), (0,0)), 'constant', constant_values = (0,0))\n",
        "    \n",
        "    return X_pad"
      ],
      "execution_count": 0,
      "outputs": []
    },
    {
      "metadata": {
        "id": "3U7lOJ5lcaRs",
        "colab_type": "code",
        "colab": {
          "base_uri": "https://localhost:8080/",
          "height": 306
        },
        "outputId": "ee575582-52c8-4d64-c358-eee2ebffe135"
      },
      "cell_type": "code",
      "source": [
        "np.random.seed(1)\n",
        "\n",
        "X_rand = np.random.randn(4, 3, 3, 2)\n",
        "print (\"X_rand.shape =\", X_rand.shape)\n",
        "print (\"X_rand[1,1] =\\n\", X_rand[1,1])\n",
        "\n",
        "fig, axarr = plt.subplots(1, 2)\n",
        "axarr[0].set_title('x[0,:,:,0]')\n",
        "axarr[0].imshow(X_rand[0,:,:,0])\n",
        "axarr[1].set_title('x[1,:,:,0]')\n",
        "axarr[1].imshow(X_rand[1,:,:,0])\n",
        "plt.show()"
      ],
      "execution_count": 29,
      "outputs": [
        {
          "output_type": "stream",
          "text": [
            "X_rand.shape = (4, 3, 3, 2)\n",
            "X_rand[1,1] =\n",
            " [[ 0.901 -0.684]\n",
            " [-0.123 -0.936]\n",
            " [-0.268  0.53 ]]\n"
          ],
          "name": "stdout"
        },
        {
          "output_type": "display_data",
          "data": {
            "image/png": "[encoded data removed]",
            "text/plain": [
              "<matplotlib.figure.Figure at 0x7f8a16bdffd0>"
            ]
          },
          "metadata": {
            "tags": []
          }
        }
      ]
    },
    {
      "metadata": {
        "id": "XZgaL1R5cjW2",
        "colab_type": "code",
        "colab": {
          "base_uri": "https://localhost:8080/",
          "height": 379
        },
        "outputId": "a68f51b9-1dcc-4cf1-f67b-fcc44a95c676"
      },
      "cell_type": "code",
      "source": [
        "X_rand_pad = zero_pad(X_rand, 2)\n",
        "\n",
        "print (\"X_rand_pad.shape =\", X_rand_pad.shape)\n",
        "print (\"X_rand_pad[1,1] =\\n\", X_rand_pad[1,1])\n",
        "\n",
        "fig, axarr = plt.subplots(1, 2)\n",
        "axarr[0].set_title('x_pad[0,:,:,0]')\n",
        "axarr[0].imshow(X_rand_pad[0,:,:,0])\n",
        "axarr[1].set_title('x_pad[1,:,:,0]')\n",
        "axarr[1].imshow(X_rand_pad[1,:,:,0])\n",
        "plt.show()"
      ],
      "execution_count": 30,
      "outputs": [
        {
          "output_type": "stream",
          "text": [
            "X_rand_pad.shape = (4, 7, 7, 2)\n",
            "X_rand_pad[1,1] =\n",
            " [[0. 0.]\n",
            " [0. 0.]\n",
            " [0. 0.]\n",
            " [0. 0.]\n",
            " [0. 0.]\n",
            " [0. 0.]\n",
            " [0. 0.]]\n"
          ],
          "name": "stdout"
        },
        {
          "output_type": "display_data",
          "data": {
            "image/png": "[encoded data removed]",
            "text/plain": [
              "<matplotlib.figure.Figure at 0x7f8a16bfb8d0>"
            ]
          },
          "metadata": {
            "tags": []
          }
        }
      ]
    },
    {
      "metadata": {
        "id": "gxCSEg38qsHq",
        "colab_type": "text"
      },
      "cell_type": "markdown",
      "source": [
        "## (6) Please explain why accuracy is not always the proper method to evaluate classification performance, and can you give other metric which is more proper"
      ]
    },
    {
      "metadata": {
        "id": "xgup4YxQhdU2",
        "colab_type": "text"
      },
      "cell_type": "markdown",
      "source": [
        "Pada problem klasifikasi, sebelum melakukan evaluation metrics, kita harus tahu terlebih dahulu metrics apa yang digunakan untuk evaluasi. seperti contoh ketika mempunyai dataset yang imbalanced, maka tidak bisa menggunakan akurasi untuk menghitung evaluation metrics nya, karena hasil klasifikasi hampir selalu merujuk ke kelas majornya. \n",
        "\n",
        "Maka dari itu, ada beberapa evaluation metrics lain yang bisa digunakan untuk dataset imbalanced, yaitu ada Precision, Recall, F1-Score dan Confusion Matrix.\n",
        "\n",
        "Saya akan mencoba menjelaskan beberapa evaluation metrics yang lebih proper untuk mengatasi problem klasifikasi. dataset yang digunakan adalah breast cancer. http://archive.ics.uci.edu/ml/datasets/Breast+Cancer"
      ]
    },
    {
      "metadata": {
        "id": "RrbDKrKrqyVn",
        "colab_type": "code",
        "colab": {
          "base_uri": "https://localhost:8080/",
          "height": 198
        },
        "outputId": "0a48edb0-e5ca-490e-96d9-26e9071000b7"
      },
      "cell_type": "code",
      "source": [
        "import numpy as np\n",
        "import pandas as pd\n",
        "\n",
        "# Load the dataset into a pandas dataframe\n",
        "data = pd.read_csv(\"http://archive.ics.uci.edu/ml/machine-learning-databases/breast-cancer/breast-cancer.data\",header=None)\n",
        "\n",
        "# See the data\n",
        "data.head()"
      ],
      "execution_count": 31,
      "outputs": [
        {
          "output_type": "execute_result",
          "data": {
            "text/html": [
              "<div>\n",
              "<style scoped>\n",
              "    .dataframe tbody tr th:only-of-type {\n",
              "        vertical-align: middle;\n",
              "    }\n",
              "\n",
              "    .dataframe tbody tr th {\n",
              "        vertical-align: top;\n",
              "    }\n",
              "\n",
              "    .dataframe thead th {\n",
              "        text-align: right;\n",
              "    }\n",
              "</style>\n",
              "<table border=\"1\" class=\"dataframe\">\n",
              "  <thead>\n",
              "    <tr style=\"text-align: right;\">\n",
              "      <th></th>\n",
              "      <th>0</th>\n",
              "      <th>1</th>\n",
              "      <th>2</th>\n",
              "      <th>3</th>\n",
              "      <th>4</th>\n",
              "      <th>5</th>\n",
              "      <th>6</th>\n",
              "      <th>7</th>\n",
              "      <th>8</th>\n",
              "      <th>9</th>\n",
              "    </tr>\n",
              "  </thead>\n",
              "  <tbody>\n",
              "    <tr>\n",
              "      <th>0</th>\n",
              "      <td>no-recurrence-events</td>\n",
              "      <td>30-39</td>\n",
              "      <td>premeno</td>\n",
              "      <td>30-34</td>\n",
              "      <td>0-2</td>\n",
              "      <td>no</td>\n",
              "      <td>3</td>\n",
              "      <td>left</td>\n",
              "      <td>left_low</td>\n",
              "      <td>no</td>\n",
              "    </tr>\n",
              "    <tr>\n",
              "      <th>1</th>\n",
              "      <td>no-recurrence-events</td>\n",
              "      <td>40-49</td>\n",
              "      <td>premeno</td>\n",
              "      <td>20-24</td>\n",
              "      <td>0-2</td>\n",
              "      <td>no</td>\n",
              "      <td>2</td>\n",
              "      <td>right</td>\n",
              "      <td>right_up</td>\n",
              "      <td>no</td>\n",
              "    </tr>\n",
              "    <tr>\n",
              "      <th>2</th>\n",
              "      <td>no-recurrence-events</td>\n",
              "      <td>40-49</td>\n",
              "      <td>premeno</td>\n",
              "      <td>20-24</td>\n",
              "      <td>0-2</td>\n",
              "      <td>no</td>\n",
              "      <td>2</td>\n",
              "      <td>left</td>\n",
              "      <td>left_low</td>\n",
              "      <td>no</td>\n",
              "    </tr>\n",
              "    <tr>\n",
              "      <th>3</th>\n",
              "      <td>no-recurrence-events</td>\n",
              "      <td>60-69</td>\n",
              "      <td>ge40</td>\n",
              "      <td>15-19</td>\n",
              "      <td>0-2</td>\n",
              "      <td>no</td>\n",
              "      <td>2</td>\n",
              "      <td>right</td>\n",
              "      <td>left_up</td>\n",
              "      <td>no</td>\n",
              "    </tr>\n",
              "    <tr>\n",
              "      <th>4</th>\n",
              "      <td>no-recurrence-events</td>\n",
              "      <td>40-49</td>\n",
              "      <td>premeno</td>\n",
              "      <td>0-4</td>\n",
              "      <td>0-2</td>\n",
              "      <td>no</td>\n",
              "      <td>2</td>\n",
              "      <td>right</td>\n",
              "      <td>right_low</td>\n",
              "      <td>no</td>\n",
              "    </tr>\n",
              "  </tbody>\n",
              "</table>\n",
              "</div>"
            ],
            "text/plain": [
              "                      0      1        2      3    4   5  6      7          8  \\\n",
              "0  no-recurrence-events  30-39  premeno  30-34  0-2  no  3   left   left_low   \n",
              "1  no-recurrence-events  40-49  premeno  20-24  0-2  no  2  right   right_up   \n",
              "2  no-recurrence-events  40-49  premeno  20-24  0-2  no  2   left   left_low   \n",
              "3  no-recurrence-events  60-69     ge40  15-19  0-2  no  2  right    left_up   \n",
              "4  no-recurrence-events  40-49  premeno    0-4  0-2  no  2  right  right_low   \n",
              "\n",
              "    9  \n",
              "0  no  \n",
              "1  no  \n",
              "2  no  \n",
              "3  no  \n",
              "4  no  "
            ]
          },
          "metadata": {
            "tags": []
          },
          "execution_count": 31
        }
      ]
    },
    {
      "metadata": {
        "id": "gryZvC2iwEFn",
        "colab_type": "code",
        "colab": {
          "base_uri": "https://localhost:8080/",
          "height": 35
        },
        "outputId": "c3b90b77-78c6-4aa2-ca1c-0b53308096d4"
      },
      "cell_type": "code",
      "source": [
        "print(\"Dimensi dataset : {}\".format(data.shape))"
      ],
      "execution_count": 32,
      "outputs": [
        {
          "output_type": "stream",
          "text": [
            "Dimensi dataset : (286, 10)\n"
          ],
          "name": "stdout"
        }
      ]
    },
    {
      "metadata": {
        "id": "w1Nmqzb7t8OW",
        "colab_type": "code",
        "colab": {
          "base_uri": "https://localhost:8080/",
          "height": 295
        },
        "outputId": "cb1267de-0a61-44c6-f365-33158524566e"
      },
      "cell_type": "code",
      "source": [
        "classes = data[9].values\n",
        "unique, counts = np.unique(classes, return_counts=True)\n",
        "\n",
        "plt.bar(unique,counts)\n",
        "plt.title('Class Frequency')\n",
        "plt.xlabel('Class')\n",
        "plt.ylabel('Frequency')\n",
        "plt.show()"
      ],
      "execution_count": 33,
      "outputs": [
        {
          "output_type": "display_data",
          "data": {
            "image/png": "[encoded data removed]",
            "text/plain": [
              "<matplotlib.figure.Figure at 0x7f8a16c02240>"
            ]
          },
          "metadata": {
            "tags": []
          }
        }
      ]
    },
    {
      "metadata": {
        "id": "QAGlG5QC3qsc",
        "colab_type": "text"
      },
      "cell_type": "markdown",
      "source": [
        "dari hasil plot diatas terlihat bahwa dataset imbalanced, maka untuk melakukan metrics evaluation menggunakan cara lain selain akurasi %"
      ]
    },
    {
      "metadata": {
        "id": "Z6E8o2f4ryTH",
        "colab_type": "text"
      },
      "cell_type": "markdown",
      "source": [
        "**Confusion Matrix**\n",
        "\n",
        "Berisi informasi tentang hasil prediksi klasifikasi dan hasil klasifikasi yang sebenarnya.\n",
        "\n",
        "pada metrics evaluation menggunakan confusion matrix, terdapat 4 istilah sebagai representasi hasil klasifikasi:\n",
        "\n",
        "\n",
        "1.   *True Positive (TP)* :  jumlah data positif yang terdeteksi dengan benar\n",
        "2.   *True Negative(TN)* : jumlah data negatif yang terdeteksi dengan benar\n",
        "3.   *False Positive (FP)* : data negatif namun terdeteksi sebagai data positif\n",
        "4.   *False Negative(FN)* :  data positif namun terdeteksi sebagai data positif\n",
        "\n",
        "<center> <img src=\"https://3qeqpr26caki16dnhd19sv6by6v-wpengine.netdna-ssl.com/wp-content/uploads/2014/03/truth_table.png\" align=\"middle\"/>\n",
        "</center>\n",
        "\n",
        "\n",
        "\n",
        "**Precision**\n",
        "\n",
        "Hasil hitung True Positives dibagi jumlah True Positives dan False Positives. dalam kata lain angka positive predictions dibagi  total angka yang prediksi kelasnya positif.\n",
        "\n",
        "Precision = TP / (TP + FP)\n",
        "\n",
        "**Recall**\n",
        "\n",
        "Hasil True Positives dibagi jumlah True Positives dan False Negatives. dalam kata lain, positive predictions dibagi nilai positive class pada data test. biasa disebut Sesitivity.\n",
        "\n",
        "Recall = TP / (TP + FN)\n",
        "\n",
        "**F1 Score**\n",
        "\n",
        "F1 Score menghitung balance antara precision dan recall. F1 Score dibilang baik kalau jumlah FP dan FN memiliki jumlah yang tidak jauh berbeda. jika FP dan FN berbeda jauh, lebih baik menggunakan precision dan recall.\n",
        "\n",
        "F1 Score = 2*(Recall * Precision) / (Recall + Precision)\n",
        "\n",
        "\n"
      ]
    },
    {
      "metadata": {
        "id": "qyPTohDxqy12",
        "colab_type": "text"
      },
      "cell_type": "markdown",
      "source": [
        "## (7) Please explain what is embedding (such as word embedding, face embedding)"
      ]
    },
    {
      "metadata": {
        "id": "WfTtZOS15ToM",
        "colab_type": "text"
      },
      "cell_type": "markdown",
      "source": [
        "##Jawaban:\n",
        "\n",
        "Embedding merupakan proses merepresentasikan data non-numerik menjadi numerik agar mesin dapat memproses data. salah satu contohnya ada Word Embedding. sederhananya, adalah mengubah teks menjadi angka. transformasi ini penting karena algortima-algoritma ML/DL membutuhkan masukan berupa angka/vektor untuk selanjutnya diproses.\n",
        "\n",
        "Word Embedding mampu menangkap konteks kata dalam dokumen, kesamaan semantik dan sintaksis, hubungan dengan kata lain, dll. salah satu penggunaan Word Embedding adalah pada saat melakukan Sentiment Analysis.\n",
        "\n",
        "kali ini saya akan mencoba mengimplementasikan word embedding sederhana dalam mencari kata yang similiar terhadap kata lainnya:"
      ]
    },
    {
      "metadata": {
        "id": "WZG90lW3Atfl",
        "colab_type": "code",
        "colab": {
          "base_uri": "https://localhost:8080/",
          "height": 72
        },
        "outputId": "256b5c33-07d6-4bf1-e191-bc7eb5d0608d"
      },
      "cell_type": "code",
      "source": [
        "import nltk\n",
        "nltk.download('brown')\n"
      ],
      "execution_count": 34,
      "outputs": [
        {
          "output_type": "stream",
          "text": [
            "[nltk_data] Downloading package brown to /root/nltk_data...\n",
            "[nltk_data]   Unzipping corpora/brown.zip.\n"
          ],
          "name": "stdout"
        },
        {
          "output_type": "execute_result",
          "data": {
            "text/plain": [
              "True"
            ]
          },
          "metadata": {
            "tags": []
          },
          "execution_count": 34
        }
      ]
    },
    {
      "metadata": {
        "id": "xq4p_JeSbSCF",
        "colab_type": "code",
        "colab": {
          "base_uri": "https://localhost:8080/",
          "height": 783
        },
        "outputId": "46c282e4-10c5-4312-936a-0d5ccd768b2a"
      },
      "cell_type": "code",
      "source": [
        "!pip install gensim"
      ],
      "execution_count": 36,
      "outputs": [
        {
          "output_type": "stream",
          "text": [
            "Collecting gensim\n",
            "\u001b[?25l  Downloading https://files.pythonhosted.org/packages/27/a4/d10c0acc8528d838cda5eede0ee9c784caa598dbf40bd0911ff8d067a7eb/gensim-3.6.0-cp36-cp36m-manylinux1_x86_64.whl (23.6MB)\n",
            "\u001b[K    100% |████████████████████████████████| 23.6MB 1.4MB/s \n",
            "\u001b[?25hRequirement already satisfied: numpy>=1.11.3 in /usr/local/lib/python3.6/dist-packages (from gensim) (1.14.6)\n",
            "Requirement already satisfied: scipy>=0.18.1 in /usr/local/lib/python3.6/dist-packages (from gensim) (1.1.0)\n",
            "Collecting smart-open>=1.2.1 (from gensim)\n",
            "  Downloading https://files.pythonhosted.org/packages/4b/1f/6f27e3682124de63ac97a0a5876da6186de6c19410feab66c1543afab055/smart_open-1.7.1.tar.gz\n",
            "Requirement already satisfied: six>=1.5.0 in /usr/local/lib/python3.6/dist-packages (from gensim) (1.11.0)\n",
            "Collecting boto>=2.32 (from smart-open>=1.2.1->gensim)\n",
            "\u001b[?25l  Downloading https://files.pythonhosted.org/packages/23/10/c0b78c27298029e4454a472a1919bde20cb182dab1662cec7f2ca1dcc523/boto-2.49.0-py2.py3-none-any.whl (1.4MB)\n",
            "\u001b[K    100% |████████████████████████████████| 1.4MB 15.0MB/s \n",
            "\u001b[?25hCollecting bz2file (from smart-open>=1.2.1->gensim)\n",
            "  Downloading https://files.pythonhosted.org/packages/61/39/122222b5e85cd41c391b68a99ee296584b2a2d1d233e7ee32b4532384f2d/bz2file-0.98.tar.gz\n",
            "Requirement already satisfied: requests in /usr/local/lib/python3.6/dist-packages (from smart-open>=1.2.1->gensim) (2.18.4)\n",
            "Collecting boto3 (from smart-open>=1.2.1->gensim)\n",
            "\u001b[?25l  Downloading https://files.pythonhosted.org/packages/6f/e4/78a78e42a98ca242ec4ef820b07d8e951f96bd7cc31f67ce11a93e0909f6/boto3-1.9.59-py2.py3-none-any.whl (128kB)\n",
            "\u001b[K    100% |████████████████████████████████| 133kB 28.1MB/s \n",
            "\u001b[?25hRequirement already satisfied: certifi>=2017.4.17 in /usr/local/lib/python3.6/dist-packages (from requests->smart-open>=1.2.1->gensim) (2018.11.29)\n",
            "Requirement already satisfied: idna<2.7,>=2.5 in /usr/local/lib/python3.6/dist-packages (from requests->smart-open>=1.2.1->gensim) (2.6)\n",
            "Requirement already satisfied: chardet<3.1.0,>=3.0.2 in /usr/local/lib/python3.6/dist-packages (from requests->smart-open>=1.2.1->gensim) (3.0.4)\n",
            "Requirement already satisfied: urllib3<1.23,>=1.21.1 in /usr/local/lib/python3.6/dist-packages (from requests->smart-open>=1.2.1->gensim) (1.22)\n",
            "Collecting s3transfer<0.2.0,>=0.1.10 (from boto3->smart-open>=1.2.1->gensim)\n",
            "\u001b[?25l  Downloading https://files.pythonhosted.org/packages/d7/14/2a0004d487464d120c9fb85313a75cd3d71a7506955be458eebfe19a6b1d/s3transfer-0.1.13-py2.py3-none-any.whl (59kB)\n",
            "\u001b[K    100% |████████████████████████████████| 61kB 22.2MB/s \n",
            "\u001b[?25hCollecting jmespath<1.0.0,>=0.7.1 (from boto3->smart-open>=1.2.1->gensim)\n",
            "  Downloading https://files.pythonhosted.org/packages/b7/31/05c8d001f7f87f0f07289a5fc0fc3832e9a57f2dbd4d3b0fee70e0d51365/jmespath-0.9.3-py2.py3-none-any.whl\n",
            "Collecting botocore<1.13.0,>=1.12.59 (from boto3->smart-open>=1.2.1->gensim)\n",
            "\u001b[?25l  Downloading https://files.pythonhosted.org/packages/21/cf/71dfc14692883aaf709bc1098a56770173a760a14b0b1cb74471609181be/botocore-1.12.59-py2.py3-none-any.whl (5.1MB)\n",
            "\u001b[K    100% |████████████████████████████████| 5.1MB 6.5MB/s \n",
            "\u001b[?25hCollecting docutils>=0.10 (from botocore<1.13.0,>=1.12.59->boto3->smart-open>=1.2.1->gensim)\n",
            "\u001b[?25l  Downloading https://files.pythonhosted.org/packages/36/fa/08e9e6e0e3cbd1d362c3bbee8d01d0aedb2155c4ac112b19ef3cae8eed8d/docutils-0.14-py3-none-any.whl (543kB)\n",
            "\u001b[K    100% |████████████████████████████████| 552kB 25.5MB/s \n",
            "\u001b[?25hRequirement already satisfied: python-dateutil<3.0.0,>=2.1; python_version >= \"2.7\" in /usr/local/lib/python3.6/dist-packages (from botocore<1.13.0,>=1.12.59->boto3->smart-open>=1.2.1->gensim) (2.5.3)\n",
            "Building wheels for collected packages: smart-open, bz2file\n",
            "  Running setup.py bdist_wheel for smart-open ... \u001b[?25l-\b \b\\\b \bdone\n",
            "\u001b[?25h  Stored in directory: /root/.cache/pip/wheels/23/00/44/e5b939f7a80c04e32297dbd6d96fa3065af89ecf57e2b5f89f\n",
            "  Running setup.py bdist_wheel for bz2file ... \u001b[?25l-\b \bdone\n",
            "\u001b[?25h  Stored in directory: /root/.cache/pip/wheels/81/75/d6/e1317bf09bf1af5a30befc2a007869fa6e1f516b8f7c591cb9\n",
            "Successfully built smart-open bz2file\n",
            "Installing collected packages: boto, bz2file, docutils, jmespath, botocore, s3transfer, boto3, smart-open, gensim\n",
            "Successfully installed boto-2.49.0 boto3-1.9.59 botocore-1.12.59 bz2file-0.98 docutils-0.14 gensim-3.6.0 jmespath-0.9.3 s3transfer-0.1.13 smart-open-1.7.1\n"
          ],
          "name": "stdout"
        }
      ]
    },
    {
      "metadata": {
        "id": "YkCcwvU6D3D4",
        "colab_type": "code",
        "colab": {
          "base_uri": "https://localhost:8080/",
          "height": 55
        },
        "outputId": "77a7f694-27df-4d9c-8616-429b82c297ee"
      },
      "cell_type": "code",
      "source": [
        "from nltk.corpus import brown\n",
        "from gensim.models import Word2Vec\n",
        " \n",
        "print(brown.sents())\n",
        "w2v_model = Word2Vec(brown.sents(), size=128, window=5, min_count=3, workers=4)\n",
        " "
      ],
      "execution_count": 37,
      "outputs": [
        {
          "output_type": "stream",
          "text": [
            "[['The', 'Fulton', 'County', 'Grand', 'Jury', 'said', 'Friday', 'an', 'investigation', 'of', \"Atlanta's\", 'recent', 'primary', 'election', 'produced', '``', 'no', 'evidence', \"''\", 'that', 'any', 'irregularities', 'took', 'place', '.'], ['The', 'jury', 'further', 'said', 'in', 'term-end', 'presentments', 'that', 'the', 'City', 'Executive', 'Committee', ',', 'which', 'had', 'over-all', 'charge', 'of', 'the', 'election', ',', '``', 'deserves', 'the', 'praise', 'and', 'thanks', 'of', 'the', 'City', 'of', 'Atlanta', \"''\", 'for', 'the', 'manner', 'in', 'which', 'the', 'election', 'was', 'conducted', '.'], ...]\n"
          ],
          "name": "stdout"
        }
      ]
    },
    {
      "metadata": {
        "id": "1RAMQIhlD_jC",
        "colab_type": "code",
        "colab": {
          "base_uri": "https://localhost:8080/",
          "height": 92
        },
        "outputId": "414c4dca-3073-4c8d-a7cf-53561dc57cf4"
      },
      "cell_type": "code",
      "source": [
        "# # Getting the vector for a word\n",
        "w2v_model.wv['Italy'] \n",
        "w2v_model.wv['France']\n",
        " \n",
        "# Getting most similar vectors\n",
        "print(w2v_model.wv.most_similar('Paris'))\n"
      ],
      "execution_count": 38,
      "outputs": [
        {
          "output_type": "stream",
          "text": [
            "[('Italy', 0.9750930070877075), ('Rome', 0.9638924598693848), ('Eugene', 0.962485671043396), ('France', 0.9622681140899658), ('headquarters', 0.961513102054596), ('breakfast', 0.9606647491455078), ('London', 0.9598265886306763), ('Harvard', 0.9594094157218933), ('dancing', 0.9588642120361328), ('Barre', 0.9587556719779968)]\n"
          ],
          "name": "stdout"
        },
        {
          "output_type": "stream",
          "text": [
            "/usr/local/lib/python3.6/dist-packages/gensim/matutils.py:737: FutureWarning: Conversion of the second argument of issubdtype from `int` to `np.signedinteger` is deprecated. In future, it will be treated as `np.int64 == np.dtype(int).type`.\n",
            "  if np.issubdtype(vec.dtype, np.int):\n"
          ],
          "name": "stderr"
        }
      ]
    },
    {
      "metadata": {
        "id": "xwuQgUUKq7SH",
        "colab_type": "text"
      },
      "cell_type": "markdown",
      "source": [
        "## (8) (Case Study) You want to make a classification model from a huge dataset which the training dataset is 100GB, the validation data is 20GB and your training device only have 16GB of RAM. Design your approach using flowchart on how to handle those problem as efficient as possible (Pseudocode is accepted and any of deep learning framework is also acceptable)"
      ]
    },
    {
      "metadata": {
        "id": "gZUwjzA3aBZI",
        "colab_type": "text"
      },
      "cell_type": "markdown",
      "source": [
        "<img src=\"https://i.ibb.co/85GHvvq/Approach.png\" alt=\"Approach\" style=\"width:780px;height:1200px;\">\n",
        "\n",
        "untuk ukuran original bisa dilihat di <a href=\"https://drive.google.com/open?id=1FBJYFXjlExZQc2NsWbGVJzAGJT5hMiOr\">Gambar Original</a>\n",
        "\n",
        "\n",
        "Sedikit penjelasan:\n",
        "\n",
        "pendekatan yang saya lakukan terbagi menjadi 2 tahap, yaitu lokal pc yang bertujuan untuk membangun model dan memastikan bahwa algoritma sudah benar-benar berjalan. lalu performa yang sebenarnya dengan bantuan google colab(cloud) untuk membantu proses training yang lebih cepat, karena colab memberikan bantuan GPU gratis sebesar 11GB + 16GB RAM kita, sehingga dapat melakukan training model pada data yang lebih besar dibanding data yang ditraining di pc lokal. "
      ]
    }
  ]
}